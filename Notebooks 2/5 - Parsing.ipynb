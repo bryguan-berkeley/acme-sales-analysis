{
 "cells": [
  {
   "cell_type": "markdown",
   "metadata": {},
   "source": [
    "# **5 - Parsing**"
   ]
  },
  {
   "cell_type": "markdown",
   "metadata": {},
   "source": [
    "## Import Libraries"
   ]
  },
  {
   "cell_type": "code",
   "execution_count": 2,
   "metadata": {},
   "outputs": [],
   "source": [
    "import csv\n",
    "import json"
   ]
  },
  {
   "cell_type": "markdown",
   "metadata": {},
   "source": [
    "## Parse JSON\n"
   ]
  },
  {
   "cell_type": "code",
   "execution_count": 3,
   "metadata": {},
   "outputs": [],
   "source": [
    "f = open('../Data 2/data_2.json', 'r')\n",
    "j = json.load(f)\n",
    "f.close()\n",
    "\n",
    "sales = [] \n",
    "stores = []\n",
    "customers = []\n",
    "line_items = []\n",
    "\n",
    "for sale in j['sales']:\n",
    "\n",
    "    # Sales\n",
    "    sale_dictionary = {}\n",
    "    sale_dictionary['sale_id'] = sale['sale_id']\n",
    "    sale_dictionary['date'] = sale['sale_date']\n",
    "    sale_dictionary['sub_total'] = sale['sub_total']\n",
    "    sale_dictionary['tax'] = sale['tax']\n",
    "    sale_dictionary['total'] = sale['total_amount']\n",
    "    sales.append(sale_dictionary)\n",
    "    \n",
    "    # Stores\n",
    "    store_dictionary = {}\n",
    "    store_dictionary['sale_id'] = sale['sale_id']\n",
    "    store_dictionary['store_id'] = sale['pickup_from']['location_id']\n",
    "    store_dictionary['name'] = sale['pickup_from']['name']\n",
    "    store_dictionary['street'] = sale['pickup_from']['street']\n",
    "    store_dictionary['city'] = sale['pickup_from']['city']\n",
    "    store_dictionary['state'] = sale['pickup_from']['state']\n",
    "    store_dictionary['zip'] = sale['pickup_from']['zip']\n",
    "    stores.append(store_dictionary)\n",
    "    \n",
    "    # Customers\n",
    "    customer_dictionary = {}\n",
    "    customer_dictionary['sale_id'] = sale['sale_id']\n",
    "    customer_dictionary['customer_id'] = sale['deliver_to']['customer_id']\n",
    "    customer_dictionary['first_name'] = sale['deliver_to']['first_name']\n",
    "    customer_dictionary['last_name'] = sale['deliver_to']['last_name']\n",
    "    customer_dictionary['street'] = sale['deliver_to']['street']\n",
    "    customer_dictionary['city'] = sale['deliver_to']['city']\n",
    "    customer_dictionary['state'] = sale['deliver_to']['state']\n",
    "    customer_dictionary['zip'] = sale['deliver_to']['zip']\n",
    "    customers.append(customer_dictionary)\n",
    "    \n",
    "    # Line Items\n",
    "    counter = 1\n",
    "    for line_item in sale['line_items']:\n",
    "        line_item_dictionary = {}\n",
    "        line_item_dictionary['sale_id'] = sale['sale_id']\n",
    "        line_item_dictionary['line_item_id'] = counter\n",
    "        counter += 1\n",
    "        for key in line_item:\n",
    "            line_item_dictionary[key] = line_item[key]\n",
    "        line_items.append(line_item_dictionary)\n"
   ]
  },
  {
   "cell_type": "markdown",
   "metadata": {},
   "source": [
    "## Write CSV"
   ]
  },
  {
   "cell_type": "code",
   "execution_count": 4,
   "metadata": {},
   "outputs": [],
   "source": [
    "f = open('../Data 2/sales_2.csv', 'w')\n",
    "dw = csv.DictWriter(f, sales[0].keys())\n",
    "dw.writeheader()\n",
    "dw.writerows(sales)\n",
    "f.close()\n",
    "\n",
    "\n",
    "f = open('../Data 2/stores_2.csv', 'w')\n",
    "dw = csv.DictWriter(f, stores[0].keys())\n",
    "dw.writeheader()\n",
    "dw.writerows(stores)\n",
    "f.close()\n",
    "\n",
    "\n",
    "f = open('../Data 2/customers_2.csv', 'w')\n",
    "dw = csv.DictWriter(f, customers[0].keys())\n",
    "dw.writeheader()\n",
    "dw.writerows(customers)\n",
    "f.close()\n",
    "\n",
    "\n",
    "f = open('../Data 2/line_items_2.csv', 'w')\n",
    "dw = csv.DictWriter(f, line_items[0].keys())\n",
    "dw.writeheader()\n",
    "dw.writerows(line_items)\n",
    "f.close()"
   ]
  },
  {
   "cell_type": "markdown",
   "metadata": {},
   "source": [
    "## Read CSV"
   ]
  },
  {
   "cell_type": "code",
   "execution_count": 22,
   "metadata": {},
   "outputs": [
    {
     "name": "stdout",
     "output_type": "stream",
     "text": [
      "Customers\n",
      "['sale_id', 'customer_id', 'first_name', 'last_name', 'street', 'city', 'state', 'zip']\n",
      "['5763728874', '3728404', 'Darrelle', 'Dohrmann', '46 Farwell Terrace', 'Oakland', 'CA', '94609']\n",
      "['5763729036', '3729309', 'Moria', 'Greenwood', '8803 Delaware Crossing', 'Berkeley', 'CA', '94705']\n",
      "['5763728904', '3728508', 'Josiah', 'Hulett', '6755 Melby Plaza', 'Oakland', 'CA', '94612']\n",
      "['5763728973', '3728534', 'Gayle', 'MacGarrity', '286 Onsgard Center', 'Berkeley', 'CA', '94703']\n",
      "\n",
      "Sales\n",
      "['sale_id', 'sale_date', 'sub_total', 'tax', 'total']\n",
      "['5763728874', '2020-10-03', '12', '0', '12']\n",
      "['5763729036', '2020-10-03', '72', '0', '72']\n",
      "['5763728904', '2020-10-03', '24', '0', '24']\n",
      "['5763728973', '2020-10-03', '96', '0', '96']\n",
      "\n",
      "Stores\n",
      "['sale_id', 'store_id', 'name', 'street', 'city', 'state', 'zip']\n",
      "['5763728874', '12573', 'Acme Gourmet Meals', '3000 Telegraph Ave', 'Berkeley', 'CA', '94705']\n",
      "['5763729036', '12573', 'Acme Gourmet Meals', '3000 Telegraph Ave', 'Berkeley', 'CA', '94705']\n",
      "['5763728904', '12573', 'Acme Gourmet Meals', '3000 Telegraph Ave', 'Berkeley', 'CA', '94705']\n",
      "['5763728973', '12573', 'Acme Gourmet Meals', '3000 Telegraph Ave', 'Berkeley', 'CA', '94705']\n",
      "\n",
      "Products\n",
      "['sale_id', 'line_item_id', 'product_id', 'price', 'quantity', 'taxable']\n",
      "['5763728874', '1', '42314680', '12', '1', 'N']\n",
      "['5763729036', '1', '42314677', '12', '1', 'N']\n",
      "['5763729036', '2', '42314682', '12', '3', 'N']\n",
      "['5763729036', '3', '42314684', '12', '2', 'N']\n"
     ]
    }
   ],
   "source": [
    "print('Customers')\n",
    "with open('../Data 2/customers_2.csv') as file:\n",
    "    customers = list(csv.reader(file))\n",
    "    for customer in customers[:5]:\n",
    "        print(customer)\n",
    "\n",
    "print('\\nSales')\n",
    "with open('../Data 2/sales_2.csv') as file:\n",
    "    sales = list(csv.reader(file))\n",
    "    for sale in sales[:5]:\n",
    "        print(sale)\n",
    "\n",
    "print('\\nStores')\n",
    "with open('../Data 2/stores_2.csv') as file:\n",
    "    stores = list(csv.reader(file))\n",
    "    for store in stores[:5]:\n",
    "        print(store)\n",
    "\n",
    "print('\\nProducts')\n",
    "with open('../Data 2/line_items_2.csv') as file:\n",
    "    products = list(csv.reader(file))\n",
    "    for line_item in products[:5]:\n",
    "        print(line_item)"
   ]
  }
 ],
 "metadata": {
  "kernelspec": {
   "display_name": "205",
   "language": "python",
   "name": "python3"
  },
  "language_info": {
   "codemirror_mode": {
    "name": "ipython",
    "version": 3
   },
   "file_extension": ".py",
   "mimetype": "text/x-python",
   "name": "python",
   "nbconvert_exporter": "python",
   "pygments_lexer": "ipython3",
   "version": "3.9.18"
  }
 },
 "nbformat": 4,
 "nbformat_minor": 2
}
